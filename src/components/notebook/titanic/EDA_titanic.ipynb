{
 "cells": [
  {
   "cell_type": "markdown",
   "id": "30fc850e",
   "metadata": {},
   "source": [
    "# Titanic (Kaggle) — Modèle logistique pour interface interactive\n",
    "\n",
    "Objectif :\n",
    "- Charger et préparer le dataset Titanic (`train.csv`)\n",
    "- Nettoyer et créer les variables nécessaires\n",
    "- Entraîner un modèle de régression logistique\n",
    "- Extraire :\n",
    "    - intercept\n",
    "    - coefficients\n",
    "    - catégories de référence\n",
    "- Exporter le tout dans un fichier `titanic_model.json` exploitable côté frontend\n"
   ]
  },
  {
   "cell_type": "markdown",
   "id": "554849f6",
   "metadata": {},
   "source": [
    "## 00. Imports"
   ]
  },
  {
   "cell_type": "code",
   "execution_count": 1,
   "id": "efe48d27",
   "metadata": {},
   "outputs": [],
   "source": [
    "import pandas as pd\n",
    "import numpy as np\n",
    "import json\n",
    "\n",
    "from sklearn.impute import SimpleImputer\n",
    "from sklearn.preprocessing import OneHotEncoder\n",
    "from sklearn.linear_model import LogisticRegression\n",
    "\n",
    "pd.set_option('display.max_columns', None)\n",
    "pd.set_option('display.width', 120)"
   ]
  },
  {
   "cell_type": "markdown",
   "id": "3add1977",
   "metadata": {},
   "source": [
    "## 01. Chargement des données\n",
    "\n",
    "On charge `train.csv` (fichier Kaggle original).  \n",
    "Il contient :\n",
    "- 891 passagers\n",
    "- Variable cible `Survived` (0 = non, 1 = oui)\n"
   ]
  },
  {
   "cell_type": "code",
   "execution_count": 2,
   "id": "b0666078",
   "metadata": {},
   "outputs": [
    {
     "name": "stdout",
     "output_type": "stream",
     "text": [
      "(891, 12)\n"
     ]
    },
    {
     "data": {
      "text/html": [
       "<div>\n",
       "<style scoped>\n",
       "    .dataframe tbody tr th:only-of-type {\n",
       "        vertical-align: middle;\n",
       "    }\n",
       "\n",
       "    .dataframe tbody tr th {\n",
       "        vertical-align: top;\n",
       "    }\n",
       "\n",
       "    .dataframe thead th {\n",
       "        text-align: right;\n",
       "    }\n",
       "</style>\n",
       "<table border=\"1\" class=\"dataframe\">\n",
       "  <thead>\n",
       "    <tr style=\"text-align: right;\">\n",
       "      <th></th>\n",
       "      <th>PassengerId</th>\n",
       "      <th>Survived</th>\n",
       "      <th>Pclass</th>\n",
       "      <th>Name</th>\n",
       "      <th>Sex</th>\n",
       "      <th>Age</th>\n",
       "      <th>SibSp</th>\n",
       "      <th>Parch</th>\n",
       "      <th>Ticket</th>\n",
       "      <th>Fare</th>\n",
       "      <th>Cabin</th>\n",
       "      <th>Embarked</th>\n",
       "    </tr>\n",
       "  </thead>\n",
       "  <tbody>\n",
       "    <tr>\n",
       "      <th>0</th>\n",
       "      <td>1</td>\n",
       "      <td>0</td>\n",
       "      <td>3</td>\n",
       "      <td>Braund, Mr. Owen Harris</td>\n",
       "      <td>male</td>\n",
       "      <td>22.0</td>\n",
       "      <td>1</td>\n",
       "      <td>0</td>\n",
       "      <td>A/5 21171</td>\n",
       "      <td>7.2500</td>\n",
       "      <td>NaN</td>\n",
       "      <td>S</td>\n",
       "    </tr>\n",
       "    <tr>\n",
       "      <th>1</th>\n",
       "      <td>2</td>\n",
       "      <td>1</td>\n",
       "      <td>1</td>\n",
       "      <td>Cumings, Mrs. John Bradley (Florence Briggs Th...</td>\n",
       "      <td>female</td>\n",
       "      <td>38.0</td>\n",
       "      <td>1</td>\n",
       "      <td>0</td>\n",
       "      <td>PC 17599</td>\n",
       "      <td>71.2833</td>\n",
       "      <td>C85</td>\n",
       "      <td>C</td>\n",
       "    </tr>\n",
       "    <tr>\n",
       "      <th>2</th>\n",
       "      <td>3</td>\n",
       "      <td>1</td>\n",
       "      <td>3</td>\n",
       "      <td>Heikkinen, Miss. Laina</td>\n",
       "      <td>female</td>\n",
       "      <td>26.0</td>\n",
       "      <td>0</td>\n",
       "      <td>0</td>\n",
       "      <td>STON/O2. 3101282</td>\n",
       "      <td>7.9250</td>\n",
       "      <td>NaN</td>\n",
       "      <td>S</td>\n",
       "    </tr>\n",
       "    <tr>\n",
       "      <th>3</th>\n",
       "      <td>4</td>\n",
       "      <td>1</td>\n",
       "      <td>1</td>\n",
       "      <td>Futrelle, Mrs. Jacques Heath (Lily May Peel)</td>\n",
       "      <td>female</td>\n",
       "      <td>35.0</td>\n",
       "      <td>1</td>\n",
       "      <td>0</td>\n",
       "      <td>113803</td>\n",
       "      <td>53.1000</td>\n",
       "      <td>C123</td>\n",
       "      <td>S</td>\n",
       "    </tr>\n",
       "    <tr>\n",
       "      <th>4</th>\n",
       "      <td>5</td>\n",
       "      <td>0</td>\n",
       "      <td>3</td>\n",
       "      <td>Allen, Mr. William Henry</td>\n",
       "      <td>male</td>\n",
       "      <td>35.0</td>\n",
       "      <td>0</td>\n",
       "      <td>0</td>\n",
       "      <td>373450</td>\n",
       "      <td>8.0500</td>\n",
       "      <td>NaN</td>\n",
       "      <td>S</td>\n",
       "    </tr>\n",
       "  </tbody>\n",
       "</table>\n",
       "</div>"
      ],
      "text/plain": [
       "   PassengerId  Survived  Pclass                                               Name     Sex   Age  SibSp  Parch  \\\n",
       "0            1         0       3                            Braund, Mr. Owen Harris    male  22.0      1      0   \n",
       "1            2         1       1  Cumings, Mrs. John Bradley (Florence Briggs Th...  female  38.0      1      0   \n",
       "2            3         1       3                             Heikkinen, Miss. Laina  female  26.0      0      0   \n",
       "3            4         1       1       Futrelle, Mrs. Jacques Heath (Lily May Peel)  female  35.0      1      0   \n",
       "4            5         0       3                           Allen, Mr. William Henry    male  35.0      0      0   \n",
       "\n",
       "             Ticket     Fare Cabin Embarked  \n",
       "0         A/5 21171   7.2500   NaN        S  \n",
       "1          PC 17599  71.2833   C85        C  \n",
       "2  STON/O2. 3101282   7.9250   NaN        S  \n",
       "3            113803  53.1000  C123        S  \n",
       "4            373450   8.0500   NaN        S  "
      ]
     },
     "execution_count": 2,
     "metadata": {},
     "output_type": "execute_result"
    }
   ],
   "source": [
    "df = pd.read_csv(\"data/train.csv\", sep=None, engine=\"python\")\n",
    "print(df.shape)\n",
    "df.head()"
   ]
  },
  {
   "cell_type": "markdown",
   "id": "fc9f41f4",
   "metadata": {},
   "source": [
    "## 02. Exploration rapide\n",
    "\n",
    "On vérifie :\n",
    "- La taille du dataset\n",
    "- Les types de variables\n",
    "- Les valeurs manquantes\n"
   ]
  },
  {
   "cell_type": "code",
   "execution_count": 3,
   "id": "80e3a043",
   "metadata": {},
   "outputs": [
    {
     "name": "stdout",
     "output_type": "stream",
     "text": [
      "Types de données :\n"
     ]
    },
    {
     "data": {
      "text/plain": [
       "PassengerId      int64\n",
       "Survived         int64\n",
       "Pclass           int64\n",
       "Name            object\n",
       "Sex             object\n",
       "Age            float64\n",
       "SibSp            int64\n",
       "Parch            int64\n",
       "Ticket          object\n",
       "Fare           float64\n",
       "Cabin           object\n",
       "Embarked        object\n",
       "dtype: object"
      ]
     },
     "execution_count": 3,
     "metadata": {},
     "output_type": "execute_result"
    }
   ],
   "source": [
    "print(\"Types de données :\")\n",
    "df.dtypes"
   ]
  },
  {
   "cell_type": "code",
   "execution_count": 4,
   "id": "5816c0bc",
   "metadata": {},
   "outputs": [
    {
     "name": "stdout",
     "output_type": "stream",
     "text": [
      "Valeurs manquantes :\n"
     ]
    },
    {
     "data": {
      "text/plain": [
       "Cabin          687\n",
       "Age            177\n",
       "Embarked         2\n",
       "PassengerId      0\n",
       "Survived         0\n",
       "Pclass           0\n",
       "Name             0\n",
       "Sex              0\n",
       "SibSp            0\n",
       "Parch            0\n",
       "Ticket           0\n",
       "Fare             0\n",
       "dtype: int64"
      ]
     },
     "execution_count": 4,
     "metadata": {},
     "output_type": "execute_result"
    }
   ],
   "source": [
    "print(\"Valeurs manquantes :\")\n",
    "df.isnull().sum().sort_values(ascending=False)"
   ]
  },
  {
   "cell_type": "code",
   "execution_count": 5,
   "id": "3ec7772f",
   "metadata": {},
   "outputs": [
    {
     "name": "stdout",
     "output_type": "stream",
     "text": [
      "Pclass : [1, 2, 3]\n",
      "Sex : ['male', 'female']\n",
      "Embarked : ['S', 'C', 'Q']\n",
      "Survived : [0, 1]\n"
     ]
    }
   ],
   "source": [
    "print(\"Pclass :\", sorted(df['Pclass'].dropna().unique()))\n",
    "print(\"Sex :\", df['Sex'].dropna().unique().tolist())\n",
    "print(\"Embarked :\", df['Embarked'].dropna().unique().tolist())\n",
    "print(\"Survived :\", sorted(df['Survived'].unique()))"
   ]
  },
  {
   "cell_type": "markdown",
   "id": "f11750e7",
   "metadata": {},
   "source": [
    "## 03. Nettoyage & Feature Engineering\n",
    "\n",
    "Objectifs :\n",
    "1) **Imputer** les valeurs manquantes :\n",
    "   - `Embarked` : imputé avec la **valeur la plus fréquente** via `SimpleImputer(strategy=\"most_frequent\")`.  \n",
    "     → Évite de supprimer des lignes tout en restant cohérent statistiquement (S est souvent majoritaire).\n",
    "   - `Age` : imputé par **médiane** (robuste aux valeurs extrêmes).\n",
    "\n",
    "2) **Créer de nouvelles variables** utiles pour l’analyse et l’app interacive :\n",
    "   - `age_group` : `child` si `Age < 15`, sinon `adult`.\n",
    "   - `family_size` = `SibSp + Parch`. (SibSp = 'Siblings/Spouse, Parch = 'Parent/Children )\n",
    "   - `family` : `with_family` si `family_size > 0`, sinon `alone`.\n",
    "\n"
   ]
  },
  {
   "cell_type": "code",
   "execution_count": 6,
   "id": "9e2c96be",
   "metadata": {},
   "outputs": [],
   "source": [
    "# Imputation Embarked (most_frequent) ---\n",
    "imp_embarked = SimpleImputer(strategy=\"most_frequent\")\n",
    "df[[\"Embarked\"]] = imp_embarked.fit_transform(df[[\"Embarked\"]])\n",
    "\n",
    "# Imputation Age (median) ---\n",
    "imp_age = SimpleImputer(strategy=\"median\")\n",
    "df[[\"Age\"]] = imp_age.fit_transform(df[[\"Age\"]])\n",
    "\n",
    "# Variables dérivées ---\n",
    "df[\"age_group\"] = np.where(df[\"Age\"] < 15, \"child\", \"adult\")\n",
    "df[\"family_size\"] = df[\"SibSp\"] + df[\"Parch\"]\n",
    "df[\"family\"] = np.where(df[\"family_size\"] > 0, \"with_family\", \"alone\")"
   ]
  },
  {
   "cell_type": "code",
   "execution_count": 7,
   "id": "29ce89bc",
   "metadata": {},
   "outputs": [
    {
     "data": {
      "text/plain": [
       "Cabin          687\n",
       "PassengerId      0\n",
       "Survived         0\n",
       "Pclass           0\n",
       "Name             0\n",
       "Sex              0\n",
       "Age              0\n",
       "SibSp            0\n",
       "Parch            0\n",
       "Ticket           0\n",
       "dtype: int64"
      ]
     },
     "execution_count": 7,
     "metadata": {},
     "output_type": "execute_result"
    }
   ],
   "source": [
    "df.isnull().sum().sort_values(ascending=False).head(10)"
   ]
  },
  {
   "cell_type": "code",
   "execution_count": 8,
   "id": "3d264edf",
   "metadata": {},
   "outputs": [
    {
     "data": {
      "text/html": [
       "<div>\n",
       "<style scoped>\n",
       "    .dataframe tbody tr th:only-of-type {\n",
       "        vertical-align: middle;\n",
       "    }\n",
       "\n",
       "    .dataframe tbody tr th {\n",
       "        vertical-align: top;\n",
       "    }\n",
       "\n",
       "    .dataframe thead th {\n",
       "        text-align: right;\n",
       "    }\n",
       "</style>\n",
       "<table border=\"1\" class=\"dataframe\">\n",
       "  <thead>\n",
       "    <tr style=\"text-align: right;\">\n",
       "      <th></th>\n",
       "      <th>Age</th>\n",
       "      <th>age_group</th>\n",
       "      <th>SibSp</th>\n",
       "      <th>Parch</th>\n",
       "      <th>family_size</th>\n",
       "      <th>family</th>\n",
       "    </tr>\n",
       "  </thead>\n",
       "  <tbody>\n",
       "    <tr>\n",
       "      <th>0</th>\n",
       "      <td>22.0</td>\n",
       "      <td>adult</td>\n",
       "      <td>1</td>\n",
       "      <td>0</td>\n",
       "      <td>1</td>\n",
       "      <td>with_family</td>\n",
       "    </tr>\n",
       "    <tr>\n",
       "      <th>1</th>\n",
       "      <td>38.0</td>\n",
       "      <td>adult</td>\n",
       "      <td>1</td>\n",
       "      <td>0</td>\n",
       "      <td>1</td>\n",
       "      <td>with_family</td>\n",
       "    </tr>\n",
       "    <tr>\n",
       "      <th>2</th>\n",
       "      <td>26.0</td>\n",
       "      <td>adult</td>\n",
       "      <td>0</td>\n",
       "      <td>0</td>\n",
       "      <td>0</td>\n",
       "      <td>alone</td>\n",
       "    </tr>\n",
       "    <tr>\n",
       "      <th>3</th>\n",
       "      <td>35.0</td>\n",
       "      <td>adult</td>\n",
       "      <td>1</td>\n",
       "      <td>0</td>\n",
       "      <td>1</td>\n",
       "      <td>with_family</td>\n",
       "    </tr>\n",
       "    <tr>\n",
       "      <th>4</th>\n",
       "      <td>35.0</td>\n",
       "      <td>adult</td>\n",
       "      <td>0</td>\n",
       "      <td>0</td>\n",
       "      <td>0</td>\n",
       "      <td>alone</td>\n",
       "    </tr>\n",
       "  </tbody>\n",
       "</table>\n",
       "</div>"
      ],
      "text/plain": [
       "    Age age_group  SibSp  Parch  family_size       family\n",
       "0  22.0     adult      1      0            1  with_family\n",
       "1  38.0     adult      1      0            1  with_family\n",
       "2  26.0     adult      0      0            0        alone\n",
       "3  35.0     adult      1      0            1  with_family\n",
       "4  35.0     adult      0      0            0        alone"
      ]
     },
     "execution_count": 8,
     "metadata": {},
     "output_type": "execute_result"
    }
   ],
   "source": [
    "df[[\"Age\", \"age_group\", \"SibSp\", \"Parch\", \"family_size\", \"family\"]].head()"
   ]
  },
  {
   "cell_type": "markdown",
   "id": "96e20ef8",
   "metadata": {},
   "source": [
    "## 04. Régression logistique\n",
    "\n",
    "Objectif : estimer l'effet de chaque variable **en contrôlant les autres**.\n",
    "Méthode :\n",
    "- Encodage One-Hot des variables catégorielles (`drop='first'` pour définir une référence).\n",
    "- Modèle `LogisticRegression`.\n",
    "- On récupère l'**intercept** (niveau de base) et les **coefficients** (effets log-odds).\n",
    "\n",
    "Interprétation rapide :\n",
    "- Coefficient **positif** → augmente les chances de survie vs. la feature de référence.\n",
    "- Coefficient **négatif** → diminue les chances de survie vs. la feature de référence.\n",
    "- L’intercept correspond au log-odds pour l'observation **de référence** (toutes variables à leur catégorie de base).\n"
   ]
  },
  {
   "cell_type": "code",
   "execution_count": 9,
   "id": "c667b4db",
   "metadata": {},
   "outputs": [
    {
     "name": "stdout",
     "output_type": "stream",
     "text": [
      "Intercept (log-odds de la feature de référence) : 2.5033040563496187\n"
     ]
    },
    {
     "data": {
      "text/html": [
       "<div>\n",
       "<style scoped>\n",
       "    .dataframe tbody tr th:only-of-type {\n",
       "        vertical-align: middle;\n",
       "    }\n",
       "\n",
       "    .dataframe tbody tr th {\n",
       "        vertical-align: top;\n",
       "    }\n",
       "\n",
       "    .dataframe thead th {\n",
       "        text-align: right;\n",
       "    }\n",
       "</style>\n",
       "<table border=\"1\" class=\"dataframe\">\n",
       "  <thead>\n",
       "    <tr style=\"text-align: right;\">\n",
       "      <th></th>\n",
       "      <th>feature</th>\n",
       "      <th>coefficient</th>\n",
       "    </tr>\n",
       "  </thead>\n",
       "  <tbody>\n",
       "    <tr>\n",
       "      <th>0</th>\n",
       "      <td>age_group_child</td>\n",
       "      <td>1.112857</td>\n",
       "    </tr>\n",
       "    <tr>\n",
       "      <th>1</th>\n",
       "      <td>Embarked_Q</td>\n",
       "      <td>-0.046910</td>\n",
       "    </tr>\n",
       "    <tr>\n",
       "      <th>2</th>\n",
       "      <td>family_with_family</td>\n",
       "      <td>-0.103998</td>\n",
       "    </tr>\n",
       "    <tr>\n",
       "      <th>3</th>\n",
       "      <td>Embarked_S</td>\n",
       "      <td>-0.573678</td>\n",
       "    </tr>\n",
       "    <tr>\n",
       "      <th>4</th>\n",
       "      <td>Pclass_2</td>\n",
       "      <td>-0.661571</td>\n",
       "    </tr>\n",
       "    <tr>\n",
       "      <th>5</th>\n",
       "      <td>Pclass_3</td>\n",
       "      <td>-1.866601</td>\n",
       "    </tr>\n",
       "    <tr>\n",
       "      <th>6</th>\n",
       "      <td>Sex_male</td>\n",
       "      <td>-2.505539</td>\n",
       "    </tr>\n",
       "  </tbody>\n",
       "</table>\n",
       "</div>"
      ],
      "text/plain": [
       "              feature  coefficient\n",
       "0     age_group_child     1.112857\n",
       "1          Embarked_Q    -0.046910\n",
       "2  family_with_family    -0.103998\n",
       "3          Embarked_S    -0.573678\n",
       "4            Pclass_2    -0.661571\n",
       "5            Pclass_3    -1.866601\n",
       "6            Sex_male    -2.505539"
      ]
     },
     "execution_count": 9,
     "metadata": {},
     "output_type": "execute_result"
    }
   ],
   "source": [
    "X = df[['Sex', 'age_group', 'Pclass', 'Embarked', 'family']]\n",
    "y = df['Survived']\n",
    "\n",
    "encoder = OneHotEncoder(drop='first', sparse_output=True)\n",
    "X_encoded = encoder.fit_transform(X)\n",
    "\n",
    "model = LogisticRegression(max_iter=2000)\n",
    "model.fit(X_encoded, y)\n",
    "\n",
    "feature_names = encoder.get_feature_names_out(X.columns)\n",
    "coef_df = pd.DataFrame({\n",
    "    'feature': feature_names,\n",
    "    'coefficient': model.coef_[0]\n",
    "}).sort_values('coefficient', ascending=False).reset_index(drop=True)\n",
    "\n",
    "intercept = float(model.intercept_[0])\n",
    "\n",
    "print(\"Intercept (log-odds de la feature de référence) :\", intercept)\n",
    "coef_df.head(10)\n"
   ]
  },
  {
   "cell_type": "markdown",
   "id": "11f7b6af",
   "metadata": {},
   "source": [
    "### Interprétation\n",
    "\n",
    "**Intercept** (log-odds pour le profil de référence) : `2.5033`\n",
    "\n",
    "Le profil de référence correspond à :  \n",
    "- **Sex** : female  \n",
    "- **age_group** : adult  \n",
    "- **Pclass** : 1  \n",
    "- **Embarked** : C  \n",
    "- **family** : alone  \n",
    "\n",
    "#### Cela signifie que, pour ce profil, les *log-odds* de survie sont de **2.5033**.  \n",
    "\n",
    "##### Coefficients des autres features\n",
    "\n",
    "| Feature              | Coefficient | Interprétation \n",
    "|----------------------|-------------|---\n",
    "| age_group_child      | +1.1129     | Être un enfant augmente les log-odds de survie par rapport à un adulte (à caractéristiques identiques). \n",
    "| Embarked_Q           | -0.0469     | Embarquer à Queenstown a un effet légèrement négatif par rapport à Cherbourg (référence). \n",
    "| family_with_family   | -0.1040     | Voyager avec de la famille réduit légèrement les log-odds par rapport à voyager seul(e). \n",
    "| Embarked_S           | -0.5737     | Embarquer à Southampton réduit les log-odds par rapport à Cherbourg. \n",
    "| Pclass_2             | -0.6616     | Voyager en 2ᵉ classe réduit les log-odds par rapport à la 1ère classe. \n",
    "| Pclass_3             | -1.8666     | Voyager en 3ᵉ classe réduit fortement les log-odds par rapport à la 1ère classe. \n",
    "| Sex_male             | -2.5055     | Être un homme réduit fortement les log-odds par rapport à une femme. \n"
   ]
  },
  {
   "cell_type": "code",
   "execution_count": 10,
   "id": "af6ae53a",
   "metadata": {},
   "outputs": [
    {
     "name": "stdout",
     "output_type": "stream",
     "text": [
      "Probabilité de survie : 92.44%\n"
     ]
    }
   ],
   "source": [
    "# Exemple profil de référence\n",
    "profil_df = pd.DataFrame([{\n",
    "    'Sex': 'female',\n",
    "    'age_group': 'adult',\n",
    "    'Pclass': 1,\n",
    "    'Embarked': 'C',\n",
    "    'family': 'alone'\n",
    "}])\n",
    "\n",
    "# Encodage avec le même encoder que pour l'entraînement\n",
    "profil_encoded = encoder.transform(profil_df)\n",
    "\n",
    "# Calcul de la probabilité avec notre modèle\n",
    "prob = model.predict_proba(profil_encoded)[0, 1]  # proba de survie (classe 1)\n",
    "\n",
    "print(f\"Probabilité de survie : {prob:.2%}\")\n"
   ]
  },
  {
   "cell_type": "code",
   "execution_count": 11,
   "id": "451c8108",
   "metadata": {},
   "outputs": [],
   "source": [
    "# Coefficients avec noms des features\n",
    "feature_names = encoder.get_feature_names_out(X.columns)\n",
    "coefficients = dict(zip(feature_names, model.coef_[0]))\n",
    "\n",
    "# Catégories de référence\n",
    "categories_reference = {\n",
    "    col: encoder.categories_[i][0]  # première catégorie = référence\n",
    "    for i, col in enumerate(X.columns)\n",
    "}"
   ]
  },
  {
   "cell_type": "code",
   "execution_count": 12,
   "id": "1dcfd2a5",
   "metadata": {},
   "outputs": [
    {
     "name": "stdout",
     "output_type": "stream",
     "text": [
      "{'Sex': 'female', 'age_group': 'adult', 'Pclass': 1, 'Embarked': 'C', 'family': 'alone'}\n",
      "{'Sex_male': -2.5055390571245795, 'age_group_child': 1.112857059953048, 'Pclass_2': -0.6615708135867034, 'Pclass_3': -1.8666012088433828, 'Embarked_Q': -0.046909638561932365, 'Embarked_S': -0.5736781250321217, 'family_with_family': -0.1039976356144329}\n",
      "['Sex_male' 'age_group_child' 'Pclass_2' 'Pclass_3' 'Embarked_Q'\n",
      " 'Embarked_S' 'family_with_family']\n"
     ]
    }
   ],
   "source": [
    "print(categories_reference)\n",
    "print(coefficients)\n",
    "print(feature_names)"
   ]
  },
  {
   "cell_type": "markdown",
   "id": "23ed3276",
   "metadata": {},
   "source": [
    "## 05. Export JSON\n",
    "\n",
    "Objectif : produire `titanic_model.json` prêt pour le composant `LogitPredictor`.\n",
    "\n",
    "Le JSON contiendra :\n",
    "- `intercept` (float)\n",
    "- `coefficients` : map `{ \"Var_valeur\": coefficient }` (float)\n",
    "- `schema.variables` : pour chaque variable catégorielle, son nom, la liste **complète** des catégories et la **référence** (1ère catégorie car `drop='first'`).\n",
    "\n",
    "La cellule suivante :\n",
    "1) S’assure que `X`, `encoder`, `model` existent (sinon les (ré)entraîne).\n",
    "2) Extrait `intercept`, `coefficients`, `schema` depuis `OneHotEncoder`.\n",
    "3) Convertit les types NumPy en types Python natifs.\n",
    "4) Écrit `titanic_model.json`.\n"
   ]
  },
  {
   "cell_type": "markdown",
   "id": "a04216c1",
   "metadata": {},
   "source": []
  },
  {
   "cell_type": "code",
   "execution_count": null,
   "id": "42c7de3a",
   "metadata": {},
   "outputs": [],
   "source": [
    "# schema variables\n",
    "variables = []\n",
    "for name, cats in zip(X.columns, encoder.categories_):\n",
    "    cats_py = []\n",
    "    for c in cats:\n",
    "        # cast numpy -> python natif\n",
    "        if isinstance(c, (np.integer,)):\n",
    "            cats_py.append(int(c))\n",
    "        elif isinstance(c, (np.floating,)):\n",
    "            cats_py.append(float(c))\n",
    "        else:\n",
    "            cats_py.append(str(c))\n",
    "    variables.append({\n",
    "        \"name\": name,\n",
    "        \"type\": \"categorical\",\n",
    "        \"categories\": cats_py,\n",
    "        \"reference\": cats_py[0]  # 1ère catégorie = référence car drop='first'\n",
    "    })\n",
    "\n",
    "    titanic_model = {\n",
    "    \"intercept\": intercept,\n",
    "    \"coefficients\": coefficients,\n",
    "    \"schema\": { \"variables\": variables }\n",
    "}\n",
    "\n",
    "with open(\"titanic_model.json\", \"w\", encoding=\"utf-8\") as f:\n",
    "    json.dump(titanic_model, f, indent=2, ensure_ascii=False)\n"
   ]
  },
  {
   "cell_type": "markdown",
   "id": "4a7d3a11",
   "metadata": {},
   "source": [
    "# Onglet Exploration\n",
    "\n",
    "**Objectif :**\n",
    "- Produire :\n",
    "    1. Des statistiques \"marginales\" (influence d'une variable isolée sur la survie)\n",
    "    2. Des statistiques \"combinées\" (probabilité de survie pour un profil complet)\n",
    "- Exporter un fichier `titanic_stats.json` exploitable dans une application React"
   ]
  },
  {
   "cell_type": "markdown",
   "id": "cfb2a50b",
   "metadata": {},
   "source": [
    "## 01. Marginales : probabilité de survie par variable isolée\n",
    "\n",
    "Mesure de l'effet d'une seule variable sur la survie, sans tenir compte des autres variables.\n",
    "\n",
    "Exemple : \n",
    "- Marginale `sex` = % de survie chez les hommes vs chez les femmes.\n",
    "- Marginale `pclass` = % de survie pour chaque classe (1, 2, 3).\n",
    "\n",
    "On calcule :\n",
    "- `survival_rate` = proportion de passagers ayant survécu\n",
    "- `count` = effectif du groupe\n"
   ]
  },
  {
   "cell_type": "code",
   "execution_count": 14,
   "id": "c857d189",
   "metadata": {},
   "outputs": [
    {
     "name": "stdout",
     "output_type": "stream",
     "text": [
      "\n",
      " sex\n",
      "{'Sex': 'female', 'survival_rate': 0.7420382165605095, 'count': 314}\n",
      "{'Sex': 'male', 'survival_rate': 0.18890814558058924, 'count': 577}\n",
      "\n",
      " age_group\n",
      "{'age_group': 'adult', 'survival_rate': 0.36531365313653136, 'count': 813}\n",
      "{'age_group': 'child', 'survival_rate': 0.5769230769230769, 'count': 78}\n",
      "\n",
      " pclass\n",
      "{'Pclass': 1, 'survival_rate': 0.6296296296296297, 'count': 216}\n",
      "{'Pclass': 2, 'survival_rate': 0.47282608695652173, 'count': 184}\n",
      "{'Pclass': 3, 'survival_rate': 0.24236252545824846, 'count': 491}\n",
      "\n",
      " embarked\n",
      "{'Embarked': 'C', 'survival_rate': 0.5535714285714286, 'count': 168}\n",
      "{'Embarked': 'Q', 'survival_rate': 0.38961038961038963, 'count': 77}\n",
      "{'Embarked': 'S', 'survival_rate': 0.33900928792569657, 'count': 646}\n",
      "\n",
      " family\n",
      "{'family': 'alone', 'survival_rate': 0.30353817504655495, 'count': 537}\n",
      "{'family': 'with_family', 'survival_rate': 0.5056497175141242, 'count': 354}\n"
     ]
    }
   ],
   "source": [
    "def survival_stats(groupby_col):\n",
    "    return (\n",
    "        df.groupby(groupby_col)\n",
    "          .agg(survival_rate=('Survived', 'mean'), # proba moyenne de survie pour chaque groupe\n",
    "               count=('Survived', 'size')) # effectif de chaque groupe\n",
    "          .reset_index()\n",
    "          .to_dict(orient='records') # df to dict --> pour l'intégration dans l'app\n",
    "    )\n",
    "\n",
    "marginals = {\n",
    "    'sex': survival_stats('Sex'),\n",
    "    'age_group': survival_stats('age_group'),\n",
    "    'pclass': survival_stats('Pclass'),\n",
    "    'embarked': survival_stats('Embarked'),\n",
    "    'family': survival_stats('family')\n",
    "}\n",
    "\n",
    "for key, val in marginals.items():\n",
    "    print(f\"\\n {key}\")\n",
    "    for row in val:\n",
    "        print(row)\n"
   ]
  },
  {
   "cell_type": "markdown",
   "id": "ad25f411",
   "metadata": {},
   "source": [
    "## 02. Combinaisons complètes : probabilité de survie par profil\n",
    "\n",
    "Ici on calcule le taux de survie pour **chaque combinaison** de :\n",
    "`Sex`, `age_group`, `Pclass`, `Embarked`, `family`.\n",
    "\n",
    "⚠️ Attention aux petits effectifs : certaines combinaisons peuvent avoir très peu de lignes.\n",
    "On garde la **taille du groupe** (`count`) pour pouvoir filtrer ensuite côté frontend\n",
    "(ex. masquer ou annoter les combinaisons avec `count < 5`).\n"
   ]
  },
  {
   "cell_type": "code",
   "execution_count": 15,
   "id": "23496e1c",
   "metadata": {},
   "outputs": [
    {
     "data": {
      "text/plain": [
       "([{'Sex': 'female',\n",
       "   'age_group': 'adult',\n",
       "   'Pclass': 1,\n",
       "   'Embarked': 'C',\n",
       "   'family': 'alone',\n",
       "   'survival_rate': 0.9444444444444444,\n",
       "   'count': 18},\n",
       "  {'Sex': 'female',\n",
       "   'age_group': 'adult',\n",
       "   'Pclass': 1,\n",
       "   'Embarked': 'C',\n",
       "   'family': 'with_family',\n",
       "   'survival_rate': 1.0,\n",
       "   'count': 25},\n",
       "  {'Sex': 'female',\n",
       "   'age_group': 'adult',\n",
       "   'Pclass': 1,\n",
       "   'Embarked': 'Q',\n",
       "   'family': 'with_family',\n",
       "   'survival_rate': 1.0,\n",
       "   'count': 1}],\n",
       " 46)"
      ]
     },
     "execution_count": 15,
     "metadata": {},
     "output_type": "execute_result"
    }
   ],
   "source": [
    "combo = (\n",
    "    df.groupby(['Sex', 'age_group', 'Pclass', 'Embarked', 'family'])\n",
    "      .agg(survival_rate=('Survived', 'mean'),\n",
    "           count=('Survived', 'size'))\n",
    "      .reset_index()\n",
    "      .sort_values(['Sex', 'age_group', 'Pclass', 'Embarked', 'family'])\n",
    "      .to_dict(orient='records')\n",
    ")\n",
    "\n",
    "# aperçu\n",
    "combo[:3], len(combo)\n"
   ]
  },
  {
   "cell_type": "markdown",
   "id": "665f4b84",
   "metadata": {},
   "source": [
    "## 03. Export JSON\n",
    "\n",
    "On exporte :\n",
    "- `marginals` (par variable isolée)  \n",
    "- `combo` (profils complets)\n"
   ]
  },
  {
   "cell_type": "code",
   "execution_count": 16,
   "id": "aa97f20c",
   "metadata": {},
   "outputs": [],
   "source": [
    "stats = {\n",
    "    'combo': combo,\n",
    "    'marginals': marginals\n",
    "}\n",
    "\n",
    "with open('titanic_stats.json', 'w') as f:\n",
    "    json.dump(stats, f, indent=2)\n"
   ]
  },
  {
   "cell_type": "markdown",
   "id": "2473b11a",
   "metadata": {},
   "source": []
  }
 ],
 "metadata": {
  "kernelspec": {
   "display_name": "lewagon",
   "language": "python",
   "name": "python3"
  },
  "language_info": {
   "codemirror_mode": {
    "name": "ipython",
    "version": 3
   },
   "file_extension": ".py",
   "mimetype": "text/x-python",
   "name": "python",
   "nbconvert_exporter": "python",
   "pygments_lexer": "ipython3",
   "version": "3.12.9"
  }
 },
 "nbformat": 4,
 "nbformat_minor": 5
}
