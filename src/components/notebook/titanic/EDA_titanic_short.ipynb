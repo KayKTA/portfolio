{
 "cells": [
  {
   "cell_type": "markdown",
   "id": "30fc850e",
   "metadata": {},
   "source": [
    "# Titanic (Kaggle) — Modèle logistique\n",
    "\n",
    "Objectif :\n",
    "- Charger et préparer le dataset Titanic (`train.csv`)\n",
    "- Nettoyer et créer les variables nécessaires\n",
    "- Entraîner un modèle de régression logistique\n",
    "- Extraire :\n",
    "    - intercept\n",
    "    - coefficients\n",
    "    - catégories de référence\n",
    "- Exporter le tout dans un fichier `titanic_model.json` pour le frontend\n"
   ]
  },
  {
   "cell_type": "markdown",
   "id": "554849f6",
   "metadata": {},
   "source": [
    "## 00. Imports"
   ]
  },
  {
   "cell_type": "code",
   "execution_count": 2,
   "id": "efe48d27",
   "metadata": {},
   "outputs": [],
   "source": [
    "import pandas as pd\n",
    "import numpy as np\n",
    "import json\n",
    "\n",
    "from sklearn.impute import SimpleImputer\n",
    "from sklearn.preprocessing import OneHotEncoder\n",
    "from sklearn.linear_model import LogisticRegression\n",
    "\n",
    "pd.set_option('display.max_columns', None)\n",
    "pd.set_option('display.width', 120)"
   ]
  },
  {
   "cell_type": "markdown",
   "id": "3add1977",
   "metadata": {},
   "source": [
    "## 01. Chargement des données\n",
    "\n",
    "On charge `train.csv` (fichier Kaggle original).  \n",
    "Il contient :\n",
    "- 891 passagers\n",
    "- Variable cible `Survived` (0 = non, 1 = oui)\n"
   ]
  },
  {
   "cell_type": "code",
   "execution_count": 5,
   "id": "b0666078",
   "metadata": {},
   "outputs": [
    {
     "name": "stdout",
     "output_type": "stream",
     "text": [
      "(891, 12)\n"
     ]
    },
    {
     "data": {
      "text/html": [
       "<div>\n",
       "<style scoped>\n",
       "    .dataframe tbody tr th:only-of-type {\n",
       "        vertical-align: middle;\n",
       "    }\n",
       "\n",
       "    .dataframe tbody tr th {\n",
       "        vertical-align: top;\n",
       "    }\n",
       "\n",
       "    .dataframe thead th {\n",
       "        text-align: right;\n",
       "    }\n",
       "</style>\n",
       "<table border=\"1\" class=\"dataframe\">\n",
       "  <thead>\n",
       "    <tr style=\"text-align: right;\">\n",
       "      <th></th>\n",
       "      <th>PassengerId</th>\n",
       "      <th>Survived</th>\n",
       "      <th>Pclass</th>\n",
       "      <th>Name</th>\n",
       "      <th>Sex</th>\n",
       "      <th>Age</th>\n",
       "      <th>SibSp</th>\n",
       "      <th>Parch</th>\n",
       "      <th>Ticket</th>\n",
       "      <th>Fare</th>\n",
       "      <th>Cabin</th>\n",
       "      <th>Embarked</th>\n",
       "    </tr>\n",
       "  </thead>\n",
       "  <tbody>\n",
       "    <tr>\n",
       "      <th>0</th>\n",
       "      <td>1</td>\n",
       "      <td>0</td>\n",
       "      <td>3</td>\n",
       "      <td>Braund, Mr. Owen Harris</td>\n",
       "      <td>male</td>\n",
       "      <td>22.0</td>\n",
       "      <td>1</td>\n",
       "      <td>0</td>\n",
       "      <td>A/5 21171</td>\n",
       "      <td>7.2500</td>\n",
       "      <td>NaN</td>\n",
       "      <td>S</td>\n",
       "    </tr>\n",
       "    <tr>\n",
       "      <th>1</th>\n",
       "      <td>2</td>\n",
       "      <td>1</td>\n",
       "      <td>1</td>\n",
       "      <td>Cumings, Mrs. John Bradley (Florence Briggs Th...</td>\n",
       "      <td>female</td>\n",
       "      <td>38.0</td>\n",
       "      <td>1</td>\n",
       "      <td>0</td>\n",
       "      <td>PC 17599</td>\n",
       "      <td>71.2833</td>\n",
       "      <td>C85</td>\n",
       "      <td>C</td>\n",
       "    </tr>\n",
       "    <tr>\n",
       "      <th>2</th>\n",
       "      <td>3</td>\n",
       "      <td>1</td>\n",
       "      <td>3</td>\n",
       "      <td>Heikkinen, Miss. Laina</td>\n",
       "      <td>female</td>\n",
       "      <td>26.0</td>\n",
       "      <td>0</td>\n",
       "      <td>0</td>\n",
       "      <td>STON/O2. 3101282</td>\n",
       "      <td>7.9250</td>\n",
       "      <td>NaN</td>\n",
       "      <td>S</td>\n",
       "    </tr>\n",
       "    <tr>\n",
       "      <th>3</th>\n",
       "      <td>4</td>\n",
       "      <td>1</td>\n",
       "      <td>1</td>\n",
       "      <td>Futrelle, Mrs. Jacques Heath (Lily May Peel)</td>\n",
       "      <td>female</td>\n",
       "      <td>35.0</td>\n",
       "      <td>1</td>\n",
       "      <td>0</td>\n",
       "      <td>113803</td>\n",
       "      <td>53.1000</td>\n",
       "      <td>C123</td>\n",
       "      <td>S</td>\n",
       "    </tr>\n",
       "    <tr>\n",
       "      <th>4</th>\n",
       "      <td>5</td>\n",
       "      <td>0</td>\n",
       "      <td>3</td>\n",
       "      <td>Allen, Mr. William Henry</td>\n",
       "      <td>male</td>\n",
       "      <td>35.0</td>\n",
       "      <td>0</td>\n",
       "      <td>0</td>\n",
       "      <td>373450</td>\n",
       "      <td>8.0500</td>\n",
       "      <td>NaN</td>\n",
       "      <td>S</td>\n",
       "    </tr>\n",
       "    <tr>\n",
       "      <th>5</th>\n",
       "      <td>6</td>\n",
       "      <td>0</td>\n",
       "      <td>3</td>\n",
       "      <td>Moran, Mr. James</td>\n",
       "      <td>male</td>\n",
       "      <td>NaN</td>\n",
       "      <td>0</td>\n",
       "      <td>0</td>\n",
       "      <td>330877</td>\n",
       "      <td>8.4583</td>\n",
       "      <td>NaN</td>\n",
       "      <td>Q</td>\n",
       "    </tr>\n",
       "    <tr>\n",
       "      <th>6</th>\n",
       "      <td>7</td>\n",
       "      <td>0</td>\n",
       "      <td>1</td>\n",
       "      <td>McCarthy, Mr. Timothy J</td>\n",
       "      <td>male</td>\n",
       "      <td>54.0</td>\n",
       "      <td>0</td>\n",
       "      <td>0</td>\n",
       "      <td>17463</td>\n",
       "      <td>51.8625</td>\n",
       "      <td>E46</td>\n",
       "      <td>S</td>\n",
       "    </tr>\n",
       "    <tr>\n",
       "      <th>7</th>\n",
       "      <td>8</td>\n",
       "      <td>0</td>\n",
       "      <td>3</td>\n",
       "      <td>Palsson, Master. Gosta Leonard</td>\n",
       "      <td>male</td>\n",
       "      <td>2.0</td>\n",
       "      <td>3</td>\n",
       "      <td>1</td>\n",
       "      <td>349909</td>\n",
       "      <td>21.0750</td>\n",
       "      <td>NaN</td>\n",
       "      <td>S</td>\n",
       "    </tr>\n",
       "    <tr>\n",
       "      <th>8</th>\n",
       "      <td>9</td>\n",
       "      <td>1</td>\n",
       "      <td>3</td>\n",
       "      <td>Johnson, Mrs. Oscar W (Elisabeth Vilhelmina Berg)</td>\n",
       "      <td>female</td>\n",
       "      <td>27.0</td>\n",
       "      <td>0</td>\n",
       "      <td>2</td>\n",
       "      <td>347742</td>\n",
       "      <td>11.1333</td>\n",
       "      <td>NaN</td>\n",
       "      <td>S</td>\n",
       "    </tr>\n",
       "    <tr>\n",
       "      <th>9</th>\n",
       "      <td>10</td>\n",
       "      <td>1</td>\n",
       "      <td>2</td>\n",
       "      <td>Nasser, Mrs. Nicholas (Adele Achem)</td>\n",
       "      <td>female</td>\n",
       "      <td>14.0</td>\n",
       "      <td>1</td>\n",
       "      <td>0</td>\n",
       "      <td>237736</td>\n",
       "      <td>30.0708</td>\n",
       "      <td>NaN</td>\n",
       "      <td>C</td>\n",
       "    </tr>\n",
       "  </tbody>\n",
       "</table>\n",
       "</div>"
      ],
      "text/plain": [
       "   PassengerId  Survived  Pclass                                               Name     Sex   Age  SibSp  Parch  \\\n",
       "0            1         0       3                            Braund, Mr. Owen Harris    male  22.0      1      0   \n",
       "1            2         1       1  Cumings, Mrs. John Bradley (Florence Briggs Th...  female  38.0      1      0   \n",
       "2            3         1       3                             Heikkinen, Miss. Laina  female  26.0      0      0   \n",
       "3            4         1       1       Futrelle, Mrs. Jacques Heath (Lily May Peel)  female  35.0      1      0   \n",
       "4            5         0       3                           Allen, Mr. William Henry    male  35.0      0      0   \n",
       "5            6         0       3                                   Moran, Mr. James    male   NaN      0      0   \n",
       "6            7         0       1                            McCarthy, Mr. Timothy J    male  54.0      0      0   \n",
       "7            8         0       3                     Palsson, Master. Gosta Leonard    male   2.0      3      1   \n",
       "8            9         1       3  Johnson, Mrs. Oscar W (Elisabeth Vilhelmina Berg)  female  27.0      0      2   \n",
       "9           10         1       2                Nasser, Mrs. Nicholas (Adele Achem)  female  14.0      1      0   \n",
       "\n",
       "             Ticket     Fare Cabin Embarked  \n",
       "0         A/5 21171   7.2500   NaN        S  \n",
       "1          PC 17599  71.2833   C85        C  \n",
       "2  STON/O2. 3101282   7.9250   NaN        S  \n",
       "3            113803  53.1000  C123        S  \n",
       "4            373450   8.0500   NaN        S  \n",
       "5            330877   8.4583   NaN        Q  \n",
       "6             17463  51.8625   E46        S  \n",
       "7            349909  21.0750   NaN        S  \n",
       "8            347742  11.1333   NaN        S  \n",
       "9            237736  30.0708   NaN        C  "
      ]
     },
     "execution_count": 5,
     "metadata": {},
     "output_type": "execute_result"
    }
   ],
   "source": [
    "df = pd.read_csv(\"../data/train.csv\", sep=None, engine=\"python\")\n",
    "print(df.shape)\n",
    "df.head(10)"
   ]
  },
  {
   "cell_type": "markdown",
   "id": "fc9f41f4",
   "metadata": {},
   "source": [
    "## 02. Exploration rapide\n",
    "\n",
    "On vérifie :\n",
    "- La taille du dataset\n",
    "- Les types de variables\n",
    "- Les valeurs manquantes\n"
   ]
  },
  {
   "cell_type": "code",
   "execution_count": 6,
   "id": "80e3a043",
   "metadata": {},
   "outputs": [
    {
     "name": "stdout",
     "output_type": "stream",
     "text": [
      "Types de données :\n"
     ]
    },
    {
     "data": {
      "text/plain": [
       "PassengerId      int64\n",
       "Survived         int64\n",
       "Pclass           int64\n",
       "Name            object\n",
       "Sex             object\n",
       "Age            float64\n",
       "SibSp            int64\n",
       "Parch            int64\n",
       "Ticket          object\n",
       "Fare           float64\n",
       "Cabin           object\n",
       "Embarked        object\n",
       "dtype: object"
      ]
     },
     "execution_count": 6,
     "metadata": {},
     "output_type": "execute_result"
    }
   ],
   "source": [
    "print(\"Types de données :\")\n",
    "df.dtypes"
   ]
  },
  {
   "cell_type": "code",
   "execution_count": 7,
   "id": "5816c0bc",
   "metadata": {},
   "outputs": [
    {
     "name": "stdout",
     "output_type": "stream",
     "text": [
      "Valeurs manquantes :\n"
     ]
    },
    {
     "data": {
      "text/plain": [
       "Cabin          687\n",
       "Age            177\n",
       "Embarked         2\n",
       "PassengerId      0\n",
       "Survived         0\n",
       "Pclass           0\n",
       "Name             0\n",
       "Sex              0\n",
       "SibSp            0\n",
       "Parch            0\n",
       "Ticket           0\n",
       "Fare             0\n",
       "dtype: int64"
      ]
     },
     "execution_count": 7,
     "metadata": {},
     "output_type": "execute_result"
    }
   ],
   "source": [
    "print(\"Valeurs manquantes :\")\n",
    "df.isnull().sum().sort_values(ascending=False)"
   ]
  },
  {
   "cell_type": "code",
   "execution_count": 8,
   "id": "3ec7772f",
   "metadata": {},
   "outputs": [
    {
     "name": "stdout",
     "output_type": "stream",
     "text": [
      "Pclass : [1, 2, 3]\n",
      "Sex : ['male', 'female']\n",
      "Embarked : ['S', 'C', 'Q']\n",
      "Survived : [0, 1]\n"
     ]
    }
   ],
   "source": [
    "print(\"Pclass :\", sorted(df['Pclass'].dropna().unique()))\n",
    "print(\"Sex :\", df['Sex'].dropna().unique().tolist())\n",
    "print(\"Embarked :\", df['Embarked'].dropna().unique().tolist())\n",
    "print(\"Survived :\", sorted(df['Survived'].unique()))"
   ]
  },
  {
   "cell_type": "markdown",
   "id": "f11750e7",
   "metadata": {},
   "source": [
    "## 03. Nettoyage & Feature Engineering\n",
    "\n",
    "Objectifs :\n",
    "1) **Imputer** les valeurs manquantes :\n",
    "   - `Embarked` : imputé avec la **valeur la plus fréquente** via `SimpleImputer(strategy=\"most_frequent\")`.  \n",
    "   - `Age` : imputé par **médiane**.\n",
    "\n",
    "2) **Créer de nouvelles variables** utiles pour l’analyse et l’app interacive :\n",
    "   - `age_group` : `child` si `Age < 15`, sinon `adult`.\n",
    "   - `family_size` = `SibSp + Parch`. (SibSp = 'Siblings/Spouse, Parch = 'Parent/Children )\n",
    "   - `family` : `with_family` si `family_size > 0`, sinon `alone`.\n",
    "\n"
   ]
  },
  {
   "cell_type": "code",
   "execution_count": 9,
   "id": "9e2c96be",
   "metadata": {},
   "outputs": [],
   "source": [
    "# Imputation Embarked (most_frequent) ---\n",
    "imp_embarked = SimpleImputer(strategy=\"most_frequent\")\n",
    "df[[\"Embarked\"]] = imp_embarked.fit_transform(df[[\"Embarked\"]])\n",
    "\n",
    "# Imputation Age (median) ---\n",
    "imp_age = SimpleImputer(strategy=\"median\")\n",
    "df[[\"Age\"]] = imp_age.fit_transform(df[[\"Age\"]])\n",
    "\n",
    "# Variables dérivées ---\n",
    "df[\"age_group\"] = np.where(df[\"Age\"] < 15, \"child\", \"adult\")\n",
    "df[\"family_size\"] = df[\"SibSp\"] + df[\"Parch\"]\n",
    "df[\"family\"] = np.where(df[\"family_size\"] > 0, \"with_family\", \"alone\")"
   ]
  },
  {
   "cell_type": "code",
   "execution_count": 10,
   "id": "29ce89bc",
   "metadata": {},
   "outputs": [
    {
     "data": {
      "text/plain": [
       "Cabin          687\n",
       "PassengerId      0\n",
       "Survived         0\n",
       "Pclass           0\n",
       "Name             0\n",
       "Sex              0\n",
       "Age              0\n",
       "SibSp            0\n",
       "Parch            0\n",
       "Ticket           0\n",
       "dtype: int64"
      ]
     },
     "execution_count": 10,
     "metadata": {},
     "output_type": "execute_result"
    }
   ],
   "source": [
    "df.isnull().sum().sort_values(ascending=False).head(10)"
   ]
  },
  {
   "cell_type": "code",
   "execution_count": 11,
   "id": "3d264edf",
   "metadata": {},
   "outputs": [
    {
     "data": {
      "text/html": [
       "<div>\n",
       "<style scoped>\n",
       "    .dataframe tbody tr th:only-of-type {\n",
       "        vertical-align: middle;\n",
       "    }\n",
       "\n",
       "    .dataframe tbody tr th {\n",
       "        vertical-align: top;\n",
       "    }\n",
       "\n",
       "    .dataframe thead th {\n",
       "        text-align: right;\n",
       "    }\n",
       "</style>\n",
       "<table border=\"1\" class=\"dataframe\">\n",
       "  <thead>\n",
       "    <tr style=\"text-align: right;\">\n",
       "      <th></th>\n",
       "      <th>Age</th>\n",
       "      <th>age_group</th>\n",
       "      <th>SibSp</th>\n",
       "      <th>Parch</th>\n",
       "      <th>family_size</th>\n",
       "      <th>family</th>\n",
       "    </tr>\n",
       "  </thead>\n",
       "  <tbody>\n",
       "    <tr>\n",
       "      <th>0</th>\n",
       "      <td>22.0</td>\n",
       "      <td>adult</td>\n",
       "      <td>1</td>\n",
       "      <td>0</td>\n",
       "      <td>1</td>\n",
       "      <td>with_family</td>\n",
       "    </tr>\n",
       "    <tr>\n",
       "      <th>1</th>\n",
       "      <td>38.0</td>\n",
       "      <td>adult</td>\n",
       "      <td>1</td>\n",
       "      <td>0</td>\n",
       "      <td>1</td>\n",
       "      <td>with_family</td>\n",
       "    </tr>\n",
       "    <tr>\n",
       "      <th>2</th>\n",
       "      <td>26.0</td>\n",
       "      <td>adult</td>\n",
       "      <td>0</td>\n",
       "      <td>0</td>\n",
       "      <td>0</td>\n",
       "      <td>alone</td>\n",
       "    </tr>\n",
       "    <tr>\n",
       "      <th>3</th>\n",
       "      <td>35.0</td>\n",
       "      <td>adult</td>\n",
       "      <td>1</td>\n",
       "      <td>0</td>\n",
       "      <td>1</td>\n",
       "      <td>with_family</td>\n",
       "    </tr>\n",
       "    <tr>\n",
       "      <th>4</th>\n",
       "      <td>35.0</td>\n",
       "      <td>adult</td>\n",
       "      <td>0</td>\n",
       "      <td>0</td>\n",
       "      <td>0</td>\n",
       "      <td>alone</td>\n",
       "    </tr>\n",
       "    <tr>\n",
       "      <th>5</th>\n",
       "      <td>28.0</td>\n",
       "      <td>adult</td>\n",
       "      <td>0</td>\n",
       "      <td>0</td>\n",
       "      <td>0</td>\n",
       "      <td>alone</td>\n",
       "    </tr>\n",
       "    <tr>\n",
       "      <th>6</th>\n",
       "      <td>54.0</td>\n",
       "      <td>adult</td>\n",
       "      <td>0</td>\n",
       "      <td>0</td>\n",
       "      <td>0</td>\n",
       "      <td>alone</td>\n",
       "    </tr>\n",
       "    <tr>\n",
       "      <th>7</th>\n",
       "      <td>2.0</td>\n",
       "      <td>child</td>\n",
       "      <td>3</td>\n",
       "      <td>1</td>\n",
       "      <td>4</td>\n",
       "      <td>with_family</td>\n",
       "    </tr>\n",
       "    <tr>\n",
       "      <th>8</th>\n",
       "      <td>27.0</td>\n",
       "      <td>adult</td>\n",
       "      <td>0</td>\n",
       "      <td>2</td>\n",
       "      <td>2</td>\n",
       "      <td>with_family</td>\n",
       "    </tr>\n",
       "    <tr>\n",
       "      <th>9</th>\n",
       "      <td>14.0</td>\n",
       "      <td>child</td>\n",
       "      <td>1</td>\n",
       "      <td>0</td>\n",
       "      <td>1</td>\n",
       "      <td>with_family</td>\n",
       "    </tr>\n",
       "  </tbody>\n",
       "</table>\n",
       "</div>"
      ],
      "text/plain": [
       "    Age age_group  SibSp  Parch  family_size       family\n",
       "0  22.0     adult      1      0            1  with_family\n",
       "1  38.0     adult      1      0            1  with_family\n",
       "2  26.0     adult      0      0            0        alone\n",
       "3  35.0     adult      1      0            1  with_family\n",
       "4  35.0     adult      0      0            0        alone\n",
       "5  28.0     adult      0      0            0        alone\n",
       "6  54.0     adult      0      0            0        alone\n",
       "7   2.0     child      3      1            4  with_family\n",
       "8  27.0     adult      0      2            2  with_family\n",
       "9  14.0     child      1      0            1  with_family"
      ]
     },
     "execution_count": 11,
     "metadata": {},
     "output_type": "execute_result"
    }
   ],
   "source": [
    "df[[\"Age\", \"age_group\", \"SibSp\", \"Parch\", \"family_size\", \"family\"]].head(10)"
   ]
  },
  {
   "cell_type": "markdown",
   "id": "96e20ef8",
   "metadata": {},
   "source": [
    "## 04. Régression logistique\n",
    "\n",
    "Objectif : estimer l'effet de chaque variable **en contrôlant les autres**.\n",
    "Méthode :\n",
    "- Encodage One-Hot des variables catégorielles (`drop='first'` pour définir une référence).\n",
    "- Modèle `LogisticRegression`.\n",
    "- On récupère l'**intercept** (niveau de base) et les **coefficients** (effets log-odds).\n",
    "\n",
    "Interprétation rapide :\n",
    "- Coefficient **positif** → augmente les chances de survie vs. la feature de référence.\n",
    "- Coefficient **négatif** → diminue les chances de survie vs. la feature de référence.\n",
    "- L’intercept correspond au log-odds pour l'observation **de référence** (toutes variables à leur catégorie de base).\n"
   ]
  },
  {
   "cell_type": "code",
   "execution_count": 12,
   "id": "c667b4db",
   "metadata": {},
   "outputs": [
    {
     "name": "stdout",
     "output_type": "stream",
     "text": [
      "Intercept (log-odds de la feature de référence) : 2.5033040563496187\n"
     ]
    },
    {
     "data": {
      "text/html": [
       "<div>\n",
       "<style scoped>\n",
       "    .dataframe tbody tr th:only-of-type {\n",
       "        vertical-align: middle;\n",
       "    }\n",
       "\n",
       "    .dataframe tbody tr th {\n",
       "        vertical-align: top;\n",
       "    }\n",
       "\n",
       "    .dataframe thead th {\n",
       "        text-align: right;\n",
       "    }\n",
       "</style>\n",
       "<table border=\"1\" class=\"dataframe\">\n",
       "  <thead>\n",
       "    <tr style=\"text-align: right;\">\n",
       "      <th></th>\n",
       "      <th>feature</th>\n",
       "      <th>coefficient</th>\n",
       "    </tr>\n",
       "  </thead>\n",
       "  <tbody>\n",
       "    <tr>\n",
       "      <th>0</th>\n",
       "      <td>age_group_child</td>\n",
       "      <td>1.112857</td>\n",
       "    </tr>\n",
       "    <tr>\n",
       "      <th>1</th>\n",
       "      <td>Embarked_Q</td>\n",
       "      <td>-0.046910</td>\n",
       "    </tr>\n",
       "    <tr>\n",
       "      <th>2</th>\n",
       "      <td>family_with_family</td>\n",
       "      <td>-0.103998</td>\n",
       "    </tr>\n",
       "    <tr>\n",
       "      <th>3</th>\n",
       "      <td>Embarked_S</td>\n",
       "      <td>-0.573678</td>\n",
       "    </tr>\n",
       "    <tr>\n",
       "      <th>4</th>\n",
       "      <td>Pclass_2</td>\n",
       "      <td>-0.661571</td>\n",
       "    </tr>\n",
       "    <tr>\n",
       "      <th>5</th>\n",
       "      <td>Pclass_3</td>\n",
       "      <td>-1.866601</td>\n",
       "    </tr>\n",
       "    <tr>\n",
       "      <th>6</th>\n",
       "      <td>Sex_male</td>\n",
       "      <td>-2.505539</td>\n",
       "    </tr>\n",
       "  </tbody>\n",
       "</table>\n",
       "</div>"
      ],
      "text/plain": [
       "              feature  coefficient\n",
       "0     age_group_child     1.112857\n",
       "1          Embarked_Q    -0.046910\n",
       "2  family_with_family    -0.103998\n",
       "3          Embarked_S    -0.573678\n",
       "4            Pclass_2    -0.661571\n",
       "5            Pclass_3    -1.866601\n",
       "6            Sex_male    -2.505539"
      ]
     },
     "execution_count": 12,
     "metadata": {},
     "output_type": "execute_result"
    }
   ],
   "source": [
    "X = df[['Sex', 'age_group', 'Pclass', 'Embarked', 'family']]\n",
    "y = df['Survived']\n",
    "\n",
    "encoder = OneHotEncoder(drop='first', sparse_output=True)\n",
    "X_encoded = encoder.fit_transform(X)\n",
    "\n",
    "model = LogisticRegression(max_iter=2000)\n",
    "model.fit(X_encoded, y)\n",
    "\n",
    "feature_names = encoder.get_feature_names_out(X.columns)\n",
    "coef_df = pd.DataFrame({\n",
    "    'feature': feature_names,\n",
    "    'coefficient': model.coef_[0]\n",
    "}).sort_values('coefficient', ascending=False).reset_index(drop=True)\n",
    "\n",
    "intercept = float(model.intercept_[0])\n",
    "\n",
    "print(\"Intercept (log-odds de la feature de référence) :\", intercept)\n",
    "coef_df.head(10)\n"
   ]
  },
  {
   "cell_type": "markdown",
   "id": "11f7b6af",
   "metadata": {},
   "source": [
    "### Interprétation\n",
    "\n",
    "**Intercept** (log-odds pour le profil de référence) : `2.5033`\n",
    "\n",
    "Le profil de référence correspond à :  \n",
    "- **Sex** : female  \n",
    "- **age_group** : adult  \n",
    "- **Pclass** : 1  \n",
    "- **Embarked** : C  \n",
    "- **family** : alone  \n",
    "\n",
    "#### Cela signifie que, pour ce profil, les *log-odds* de survie sont de **2.5033**.  \n",
    "\n",
    "##### Coefficients des autres features\n",
    "\n",
    "| Feature              | Coefficient | Interprétation |\n",
    "|----------------------|-------------|----------------|\n",
    "| age_group_child      | +1.1129     | Être un enfant augmente les log-odds de survie par rapport à un adulte (à caractéristiques identiques). |\n",
    "| Embarked_Q           | -0.0469     | Embarquer à Queenstown a un effet légèrement négatif par rapport à Cherbourg (référence). |\n",
    "| family_with_family   | -0.1040     | Voyager avec de la famille réduit légèrement les log-odds par rapport à voyager seul(e). |\n",
    "| Embarked_S           | -0.5737     | Embarquer à Southampton réduit les log-odds par rapport à Cherbourg. |\n",
    "| Pclass_2             | -0.6616     | Voyager en 2ᵉ classe réduit les log-odds par rapport à la 1ère classe. |\n",
    "| Pclass_3             | -1.8666     | Voyager en 3ᵉ classe réduit fortement les log-odds par rapport à la 1ère classe. |\n",
    "| Sex_male             | -2.5055     | Être un homme réduit fortement les log-odds par rapport à une femme. |\n"
   ]
  },
  {
   "cell_type": "code",
   "execution_count": 13,
   "id": "af6ae53a",
   "metadata": {},
   "outputs": [
    {
     "name": "stdout",
     "output_type": "stream",
     "text": [
      "Probabilité de survie : 92.44%\n"
     ]
    }
   ],
   "source": [
    "# Exemple profil de référence\n",
    "profil_df = pd.DataFrame([{\n",
    "    'Sex': 'female',\n",
    "    'age_group': 'adult',\n",
    "    'Pclass': 1,\n",
    "    'Embarked': 'C',\n",
    "    'family': 'alone'\n",
    "}])\n",
    "\n",
    "# Encodage avec le même encoder que pour l'entraînement\n",
    "profil_encoded = encoder.transform(profil_df)\n",
    "\n",
    "# Calcul de la probabilité avec notre modèle\n",
    "prob = model.predict_proba(profil_encoded)[0, 1]  # proba de survie (classe 1)\n",
    "\n",
    "print(f\"Probabilité de survie : {prob:.2%}\")\n"
   ]
  },
  {
   "cell_type": "code",
   "execution_count": 14,
   "id": "451c8108",
   "metadata": {},
   "outputs": [],
   "source": [
    "# Coefficients avec noms des features\n",
    "feature_names = encoder.get_feature_names_out(X.columns)\n",
    "coefficients = dict(zip(feature_names, model.coef_[0]))\n",
    "\n",
    "# Catégories de référence\n",
    "categories_reference = {\n",
    "    col: encoder.categories_[i][0]  # première catégorie = référence\n",
    "    for i, col in enumerate(X.columns)\n",
    "}"
   ]
  },
  {
   "cell_type": "code",
   "execution_count": 18,
   "id": "1dcfd2a5",
   "metadata": {},
   "outputs": [
    {
     "data": {
      "text/plain": [
       "{'Sex': 'female',\n",
       " 'age_group': 'adult',\n",
       " 'Pclass': 1,\n",
       " 'Embarked': 'C',\n",
       " 'family': 'alone'}"
      ]
     },
     "metadata": {},
     "output_type": "display_data"
    },
    {
     "data": {
      "text/plain": [
       "{'Sex_male': -2.5055390571245795,\n",
       " 'age_group_child': 1.112857059953048,\n",
       " 'Pclass_2': -0.6615708135867034,\n",
       " 'Pclass_3': -1.8666012088433828,\n",
       " 'Embarked_Q': -0.046909638561932365,\n",
       " 'Embarked_S': -0.5736781250321217,\n",
       " 'family_with_family': -0.1039976356144329}"
      ]
     },
     "metadata": {},
     "output_type": "display_data"
    },
    {
     "data": {
      "text/plain": [
       "array(['Sex_male', 'age_group_child', 'Pclass_2', 'Pclass_3',\n",
       "       'Embarked_Q', 'Embarked_S', 'family_with_family'], dtype=object)"
      ]
     },
     "metadata": {},
     "output_type": "display_data"
    }
   ],
   "source": [
    "display(categories_reference)\n",
    "display(coefficients)\n",
    "display(feature_names)"
   ]
  },
  {
   "cell_type": "markdown",
   "id": "23ed3276",
   "metadata": {},
   "source": [
    "## 05. Export JSON\n",
    "\n",
    "Objectif : exporter `titanic_model.json` pour implémentation dans l'app.\n",
    "\n",
    "Le JSON contiendra :\n",
    "- `intercept` (float)\n",
    "- `coefficients` : map `{ \"Var_valeur\": coefficient }` (float)\n",
    "- `schema.variables` : pour chaque variable catégorielle, son nom, la liste **complète** des catégories et la **référence** (1ère catégorie car `drop='first'`).\n"
   ]
  },
  {
   "cell_type": "markdown",
   "id": "a04216c1",
   "metadata": {},
   "source": []
  }
 ],
 "metadata": {
  "kernelspec": {
   "display_name": "lewagon",
   "language": "python",
   "name": "python3"
  },
  "language_info": {
   "codemirror_mode": {
    "name": "ipython",
    "version": 3
   },
   "file_extension": ".py",
   "mimetype": "text/x-python",
   "name": "python",
   "nbconvert_exporter": "python",
   "pygments_lexer": "ipython3",
   "version": "3.12.9"
  }
 },
 "nbformat": 4,
 "nbformat_minor": 5
}
